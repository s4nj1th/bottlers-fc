{
 "cells": [
  {
   "cell_type": "markdown",
   "id": "fcc4c0f4",
   "metadata": {},
   "source": [
    "# Bottlers FC Analysis\n",
    "Identifying the biggest \"bottlers\" in European football - teams that consistently underperform despite being close to success."
   ]
  },
  {
   "cell_type": "code",
   "execution_count": 1,
   "id": "a391c85c",
   "metadata": {},
   "outputs": [],
   "source": [
    "import pandas as pd\n",
    "import numpy as np\n",
    "import matplotlib.pyplot as plt"
   ]
  },
  {
   "cell_type": "markdown",
   "id": "835b1e9a",
   "metadata": {},
   "source": [
    "### Load match, team, and league data"
   ]
  },
  {
   "cell_type": "code",
   "execution_count": 2,
   "id": "6680c12a",
   "metadata": {},
   "outputs": [
    {
     "name": "stdout",
     "output_type": "stream",
     "text": [
      "Data files \n"
     ]
    }
   ],
   "source": [
    "try:\n",
    "    matches = pd.read_csv(\"data/games.csv\", parse_dates=['date'])\n",
    "    teams = pd.read_csv(\"data/teams.csv\")\n",
    "    leagues = pd.read_csv(\"data/leagues.csv\")\n",
    "    print(\"Data files \")\n",
    "except FileNotFoundError as e:\n",
    "    print(\"Error: Missing data files. Please download from Kaggle and place in /data folder.\")\n",
    "    print(\"Dataset: https://www.kaggle.com/datasets/technika148/football-database\")\n",
    "    raise e"
   ]
  },
  {
   "cell_type": "markdown",
   "id": "bf0c9346",
   "metadata": {},
   "source": [
    "### Assign points for wins, draws, and losses"
   ]
  },
  {
   "cell_type": "code",
   "execution_count": 3,
   "id": "d269cdc3",
   "metadata": {},
   "outputs": [],
   "source": [
    "matches['pointsHome'] = np.where(matches['homeGoals'] > matches['awayGoals'], 3,\n",
    "                         np.where(matches['homeGoals'] == matches['awayGoals'], 1, 0))\n",
    "matches['pointsAway'] = np.where(matches['awayGoals'] > matches['homeGoals'], 3,\n",
    "                         np.where(matches['awayGoals'] == matches['homeGoals'], 1, 0))\n",
    "\n"
   ]
  },
  {
   "cell_type": "markdown",
   "id": "33476035",
   "metadata": {},
   "source": [
    "### Aggregate total points per season, league, and team"
   ]
  },
  {
   "cell_type": "code",
   "execution_count": 4,
   "id": "0cc4384e",
   "metadata": {},
   "outputs": [],
   "source": [
    "final_points = pd.DataFrame({\n",
    "    'teamID': pd.concat([matches['homeTeamID'], matches['awayTeamID']]),\n",
    "    'season': pd.concat([matches['season'], matches['season']]),\n",
    "    'leagueID': pd.concat([matches['leagueID'], matches['leagueID']]),\n",
    "    'points': pd.concat([matches['pointsHome'], matches['pointsAway']])\n",
    "}).groupby(['season', 'leagueID', 'teamID']).sum().reset_index()\n",
    "\n"
   ]
  },
  {
   "cell_type": "markdown",
   "id": "d5a7e351",
   "metadata": {},
   "source": [
    "### Rank teams to get final league positions"
   ]
  },
  {
   "cell_type": "code",
   "execution_count": 5,
   "id": "3190be8e",
   "metadata": {},
   "outputs": [],
   "source": [
    "final_points['final_position'] = final_points.groupby(['season', 'leagueID'])['points'] \\\n",
    "                                             .rank(method='first', ascending=False).astype(int)\n",
    "\n"
   ]
  },
  {
   "cell_type": "markdown",
   "id": "228e7bc4",
   "metadata": {},
   "source": [
    "### Determine league size for normalization"
   ]
  },
  {
   "cell_type": "code",
   "execution_count": 6,
   "id": "faa54c92",
   "metadata": {},
   "outputs": [],
   "source": [
    "league_sizes = final_points.groupby('leagueID')['final_position'].max().reset_index()\n",
    "league_sizes = league_sizes.rename(columns={'final_position': 'league_size'})\n",
    "final_points = final_points.merge(league_sizes, on='leagueID', how='left')\n",
    "\n"
   ]
  },
  {
   "cell_type": "markdown",
   "id": "9f48ace9",
   "metadata": {},
   "source": [
    "### Apply recency weighting (oldest=1, newest=3)"
   ]
  },
  {
   "cell_type": "code",
   "execution_count": 7,
   "id": "1ffe9e17",
   "metadata": {},
   "outputs": [],
   "source": [
    "min_season = final_points['season'].min()\n",
    "max_season = final_points['season'].max()\n",
    "final_points['season_weight'] = 1 + 2 * (\n",
    "    1 - ((final_points['season'] - min_season) / (max_season - min_season))\n",
    ")\n"
   ]
  },
  {
   "cell_type": "markdown",
   "id": "0a22abdc",
   "metadata": {},
   "source": [
    "### Bottle Score Formula\n",
    "The bottle score is calculated as:\n",
    "- 0 for champions (1st place)\n",
    "- `(0.5)^((position-2)/(league_size-2))` for others\n",
    "- Multiplied by recency weight (recent seasons weighted more heavily)\n",
    "\n",
    "Higher scores indicate more \"bottling\" behavior."
   ]
  },
  {
   "cell_type": "code",
   "execution_count": 8,
   "id": "67d4fac2",
   "metadata": {},
   "outputs": [],
   "source": [
    "final_points['bottle_score'] = np.where(\n",
    "    final_points['final_position'] == 1,\n",
    "    0.0,\n",
    "    (0.5) ** ((final_points['final_position'] - 2) / (final_points['league_size'] - 2))\n",
    ")\n"
   ]
  },
  {
   "cell_type": "code",
   "execution_count": 9,
   "id": "da35d0a4",
   "metadata": {},
   "outputs": [],
   "source": [
    "final_points['bottle_score'] *= final_points['season_weight']"
   ]
  },
  {
   "cell_type": "markdown",
   "id": "4e25686b",
   "metadata": {},
   "source": [
    "### Calculate average bottle score per team"
   ]
  },
  {
   "cell_type": "code",
   "execution_count": 10,
   "id": "8bfacbcd",
   "metadata": {},
   "outputs": [],
   "source": [
    "bottle_avg = final_points.groupby(['teamID', 'leagueID'])['bottle_score'].mean().reset_index()"
   ]
  },
  {
   "cell_type": "markdown",
   "id": "5c1fd1ba",
   "metadata": {},
   "source": [
    "### Save results to CSV (IDs and scores only)"
   ]
  },
  {
   "cell_type": "code",
   "execution_count": 11,
   "id": "f317ab13",
   "metadata": {},
   "outputs": [],
   "source": [
    "bottle_avg[['teamID', 'leagueID', 'bottle_score']].to_csv(\n",
    "    \"bottlers.csv\", index=False\n",
    ")\n"
   ]
  },
  {
   "cell_type": "markdown",
   "id": "d986cddf",
   "metadata": {},
   "source": [
    "### Merge team and league names for readable output"
   ]
  },
  {
   "cell_type": "code",
   "execution_count": 12,
   "id": "c6307eee",
   "metadata": {},
   "outputs": [],
   "source": [
    "bottle_display = bottle_avg.merge(leagues[['leagueID', 'name']], on='leagueID', how='left') \\\n",
    "                           .rename(columns={'name': 'leagueName'}) \\\n",
    "                           .merge(teams[['teamID', 'name']], on='teamID', how='left') \\\n",
    "                           .rename(columns={'name': 'teamName'})\n",
    "\n"
   ]
  },
  {
   "cell_type": "code",
   "execution_count": 13,
   "id": "5ad470f6",
   "metadata": {},
   "outputs": [
    {
     "name": "stdout",
     "output_type": "stream",
     "text": [
      "\n",
      "Bottling Performance Report:\n",
      "\n",
      "Basic Stats:\n",
      "- Average bottle score: 1.30\n",
      "- Median bottle score: 1.36\n",
      "- Standard deviation: 0.36 (higher = more inconsistent bottling)\n",
      "\n",
      "Bottling Percentiles:\n",
      "- 25th percentile (mild bottlers): 1.12\n",
      "- 75th percentile (serious bottlers): 1.54\n",
      "- 90th percentile (professional bottlers): 1.72\n",
      "\n",
      "Bottling Hall of Fame:\n",
      "- WORST bottler: Roma (Serie A) with score 1.90\n",
      "- BEST bottler (didnt bottle much): Bayern Munich (Bundesliga) with score 0.00\n",
      "- Most average bottler: Werder Bremen (Bundesliga) with score 1.37\n",
      "\n",
      "League Bottling Rankings:\n"
     ]
    },
    {
     "data": {
      "text/html": [
       "<style type=\"text/css\">\n",
       "#T_7bb30_row0_col0, #T_7bb30_row4_col1 {\n",
       "  background-color: #67000d;\n",
       "  color: #f1f1f1;\n",
       "}\n",
       "#T_7bb30_row0_col1 {\n",
       "  background-color: #980c13;\n",
       "  color: #f1f1f1;\n",
       "}\n",
       "#T_7bb30_row1_col0 {\n",
       "  background-color: #f34a36;\n",
       "  color: #f1f1f1;\n",
       "}\n",
       "#T_7bb30_row1_col1, #T_7bb30_row4_col0 {\n",
       "  background-color: #fff5f0;\n",
       "  color: #000000;\n",
       "}\n",
       "#T_7bb30_row2_col0 {\n",
       "  background-color: #fc9e80;\n",
       "  color: #000000;\n",
       "}\n",
       "#T_7bb30_row2_col1 {\n",
       "  background-color: #e93529;\n",
       "  color: #f1f1f1;\n",
       "}\n",
       "#T_7bb30_row3_col0 {\n",
       "  background-color: #fcbca2;\n",
       "  color: #000000;\n",
       "}\n",
       "#T_7bb30_row3_col1 {\n",
       "  background-color: #f0402f;\n",
       "  color: #f1f1f1;\n",
       "}\n",
       "</style>\n",
       "<table id=\"T_7bb30\">\n",
       "  <thead>\n",
       "    <tr>\n",
       "      <th class=\"blank level0\" >&nbsp;</th>\n",
       "      <th id=\"T_7bb30_level0_col0\" class=\"col_heading level0 col0\" >Avg Bottle Score</th>\n",
       "      <th id=\"T_7bb30_level0_col1\" class=\"col_heading level0 col1\" >Worst Score</th>\n",
       "    </tr>\n",
       "    <tr>\n",
       "      <th class=\"index_name level0\" >leagueName</th>\n",
       "      <th class=\"blank col0\" >&nbsp;</th>\n",
       "      <th class=\"blank col1\" >&nbsp;</th>\n",
       "    </tr>\n",
       "  </thead>\n",
       "  <tbody>\n",
       "    <tr>\n",
       "      <th id=\"T_7bb30_level0_row0\" class=\"row_heading level0 row0\" >Ligue 1</th>\n",
       "      <td id=\"T_7bb30_row0_col0\" class=\"data row0 col0\" >1.326260</td>\n",
       "      <td id=\"T_7bb30_row0_col1\" class=\"data row0 col1\" >1.885518</td>\n",
       "    </tr>\n",
       "    <tr>\n",
       "      <th id=\"T_7bb30_level0_row1\" class=\"row_heading level0 row1\" >La Liga</th>\n",
       "      <td id=\"T_7bb30_row1_col0\" class=\"data row1 col0\" >1.305144</td>\n",
       "      <td id=\"T_7bb30_row1_col1\" class=\"data row1 col1\" >1.799851</td>\n",
       "    </tr>\n",
       "    <tr>\n",
       "      <th id=\"T_7bb30_level0_row2\" class=\"row_heading level0 row2\" >Bundesliga</th>\n",
       "      <td id=\"T_7bb30_row2_col0\" class=\"data row2 col0\" >1.292583</td>\n",
       "      <td id=\"T_7bb30_row2_col1\" class=\"data row2 col1\" >1.861524</td>\n",
       "    </tr>\n",
       "    <tr>\n",
       "      <th id=\"T_7bb30_level0_row3\" class=\"row_heading level0 row3\" >Premier League</th>\n",
       "      <td id=\"T_7bb30_row3_col0\" class=\"data row3 col0\" >1.287934</td>\n",
       "      <td id=\"T_7bb30_row3_col1\" class=\"data row3 col1\" >1.858198</td>\n",
       "    </tr>\n",
       "    <tr>\n",
       "      <th id=\"T_7bb30_level0_row4\" class=\"row_heading level0 row4\" >Serie A</th>\n",
       "      <td id=\"T_7bb30_row4_col0\" class=\"data row4 col0\" >1.275351</td>\n",
       "      <td id=\"T_7bb30_row4_col1\" class=\"data row4 col1\" >1.895025</td>\n",
       "    </tr>\n",
       "  </tbody>\n",
       "</table>\n"
      ],
      "text/plain": [
       "<pandas.io.formats.style.Styler at 0x7f3b581c7770>"
      ]
     },
     "metadata": {},
     "output_type": "display_data"
    },
    {
     "name": "stdout",
     "output_type": "stream",
     "text": [
      "The gap between best and worst: 1.90 points\n"
     ]
    }
   ],
   "source": [
    "print(\"\\nBottling Performance Report:\")\n",
    "\n",
    "print(f\"\\nBasic Stats:\")\n",
    "print(f\"- Average bottle score: {bottle_display['bottle_score'].mean():.2f}\")\n",
    "print(f\"- Median bottle score: {bottle_display['bottle_score'].median():.2f}\")\n",
    "print(f\"- Standard deviation: {bottle_display['bottle_score'].std():.2f} (higher = more inconsistent bottling)\")\n",
    "\n",
    "print(f\"\\nBottling Percentiles:\")\n",
    "print(f\"- 25th percentile (mild bottlers): {bottle_display['bottle_score'].quantile(0.25):.2f}\")\n",
    "print(f\"- 75th percentile (serious bottlers): {bottle_display['bottle_score'].quantile(0.75):.2f}\")\n",
    "print(f\"- 90th percentile (professional bottlers): {bottle_display['bottle_score'].quantile(0.9):.2f}\")\n",
    "\n",
    "worst = bottle_display.loc[bottle_display['bottle_score'].idxmax()]\n",
    "best = bottle_display.loc[bottle_display['bottle_score'].idxmin()]\n",
    "median_idx = (bottle_display['bottle_score'] - bottle_display['bottle_score'].median()).abs().idxmin()\n",
    "median_team = bottle_display.loc[median_idx]\n",
    "\n",
    "print(f\"\\nBottling Hall of Fame:\")\n",
    "print(f\"- WORST bottler: {worst['teamName']} ({worst['leagueName']}) with score {worst['bottle_score']:.2f}\")\n",
    "print(f\"- BEST bottler (didnt bottle much): {best['teamName']} ({best['leagueName']}) with score {best['bottle_score']:.2f}\")\n",
    "print(f\"- Most average bottler: {median_team['teamName']} ({median_team['leagueName']}) with score {median_team['bottle_score']:.2f}\")\n",
    "\n",
    "league_stats = bottle_display.groupby('leagueName')['bottle_score'].agg(['mean', 'max'])\n",
    "league_stats.columns = ['Avg Bottle Score', 'Worst Score']\n",
    "league_stats = league_stats.sort_values('Avg Bottle Score', ascending=False)\n",
    "\n",
    "print(f\"\\nLeague Bottling Rankings:\")\n",
    "display(league_stats.style.background_gradient(cmap='Reds'))\n",
    "\n",
    "high_bottle = bottle_display[bottle_display['bottle_score'] > bottle_display['bottle_score'].quantile(0.9)]\n",
    "low_bottle = bottle_display[bottle_display['bottle_score'] < bottle_display['bottle_score'].quantile(0.1)]\n",
    "\n",
    "print(f\"The gap between best and worst: {worst['bottle_score'] - best['bottle_score']:.2f} points\")"
   ]
  },
  {
   "cell_type": "markdown",
   "id": "d9fdd62a",
   "metadata": {},
   "source": [
    "### Display top bottlers per league"
   ]
  },
  {
   "cell_type": "code",
   "execution_count": 14,
   "id": "70925790",
   "metadata": {},
   "outputs": [
    {
     "name": "stdout",
     "output_type": "stream",
     "text": [
      "\n",
      "The top bottlers in each league were,\n",
      "\n",
      "\n",
      "Bundesliga\n"
     ]
    },
    {
     "data": {
      "text/html": [
       "<div>\n",
       "<style scoped>\n",
       "    .dataframe tbody tr th:only-of-type {\n",
       "        vertical-align: middle;\n",
       "    }\n",
       "\n",
       "    .dataframe tbody tr th {\n",
       "        vertical-align: top;\n",
       "    }\n",
       "\n",
       "    .dataframe thead th {\n",
       "        text-align: right;\n",
       "    }\n",
       "</style>\n",
       "<table border=\"1\" class=\"dataframe\">\n",
       "  <thead>\n",
       "    <tr style=\"text-align: right;\">\n",
       "      <th></th>\n",
       "      <th>teamName</th>\n",
       "      <th>bottle_score</th>\n",
       "    </tr>\n",
       "  </thead>\n",
       "  <tbody>\n",
       "    <tr>\n",
       "      <th>1</th>\n",
       "      <td>Borussia Dortmund</td>\n",
       "      <td>1.861524</td>\n",
       "    </tr>\n",
       "    <tr>\n",
       "      <th>2</th>\n",
       "      <td>Bayer Leverkusen</td>\n",
       "      <td>1.753268</td>\n",
       "    </tr>\n",
       "    <tr>\n",
       "      <th>3</th>\n",
       "      <td>Borussia M.Gladbach</td>\n",
       "      <td>1.710752</td>\n",
       "    </tr>\n",
       "  </tbody>\n",
       "</table>\n",
       "</div>"
      ],
      "text/plain": [
       "              teamName  bottle_score\n",
       "1    Borussia Dortmund      1.861524\n",
       "2     Bayer Leverkusen      1.753268\n",
       "3  Borussia M.Gladbach      1.710752"
      ]
     },
     "metadata": {},
     "output_type": "display_data"
    },
    {
     "name": "stdout",
     "output_type": "stream",
     "text": [
      "\n",
      "\n",
      "La Liga\n"
     ]
    },
    {
     "data": {
      "text/html": [
       "<div>\n",
       "<style scoped>\n",
       "    .dataframe tbody tr th:only-of-type {\n",
       "        vertical-align: middle;\n",
       "    }\n",
       "\n",
       "    .dataframe tbody tr th {\n",
       "        vertical-align: top;\n",
       "    }\n",
       "\n",
       "    .dataframe thead th {\n",
       "        text-align: right;\n",
       "    }\n",
       "</style>\n",
       "<table border=\"1\" class=\"dataframe\">\n",
       "  <thead>\n",
       "    <tr style=\"text-align: right;\">\n",
       "      <th></th>\n",
       "      <th>teamName</th>\n",
       "      <th>bottle_score</th>\n",
       "    </tr>\n",
       "  </thead>\n",
       "  <tbody>\n",
       "    <tr>\n",
       "      <th>1</th>\n",
       "      <td>Atletico Madrid</td>\n",
       "      <td>1.799851</td>\n",
       "    </tr>\n",
       "    <tr>\n",
       "      <th>2</th>\n",
       "      <td>Sevilla</td>\n",
       "      <td>1.768013</td>\n",
       "    </tr>\n",
       "    <tr>\n",
       "      <th>3</th>\n",
       "      <td>Malaga</td>\n",
       "      <td>1.764401</td>\n",
       "    </tr>\n",
       "  </tbody>\n",
       "</table>\n",
       "</div>"
      ],
      "text/plain": [
       "          teamName  bottle_score\n",
       "1  Atletico Madrid      1.799851\n",
       "2          Sevilla      1.768013\n",
       "3           Malaga      1.764401"
      ]
     },
     "metadata": {},
     "output_type": "display_data"
    },
    {
     "name": "stdout",
     "output_type": "stream",
     "text": [
      "\n",
      "\n",
      "Ligue 1\n"
     ]
    },
    {
     "data": {
      "text/html": [
       "<div>\n",
       "<style scoped>\n",
       "    .dataframe tbody tr th:only-of-type {\n",
       "        vertical-align: middle;\n",
       "    }\n",
       "\n",
       "    .dataframe tbody tr th {\n",
       "        vertical-align: top;\n",
       "    }\n",
       "\n",
       "    .dataframe thead th {\n",
       "        text-align: right;\n",
       "    }\n",
       "</style>\n",
       "<table border=\"1\" class=\"dataframe\">\n",
       "  <thead>\n",
       "    <tr style=\"text-align: right;\">\n",
       "      <th></th>\n",
       "      <th>teamName</th>\n",
       "      <th>bottle_score</th>\n",
       "    </tr>\n",
       "  </thead>\n",
       "  <tbody>\n",
       "    <tr>\n",
       "      <th>1</th>\n",
       "      <td>Lyon</td>\n",
       "      <td>1.885518</td>\n",
       "    </tr>\n",
       "    <tr>\n",
       "      <th>2</th>\n",
       "      <td>SC Bastia</td>\n",
       "      <td>1.748144</td>\n",
       "    </tr>\n",
       "    <tr>\n",
       "      <th>3</th>\n",
       "      <td>Marseille</td>\n",
       "      <td>1.737578</td>\n",
       "    </tr>\n",
       "  </tbody>\n",
       "</table>\n",
       "</div>"
      ],
      "text/plain": [
       "    teamName  bottle_score\n",
       "1       Lyon      1.885518\n",
       "2  SC Bastia      1.748144\n",
       "3  Marseille      1.737578"
      ]
     },
     "metadata": {},
     "output_type": "display_data"
    },
    {
     "name": "stdout",
     "output_type": "stream",
     "text": [
      "\n",
      "\n",
      "Premier League\n"
     ]
    },
    {
     "data": {
      "text/html": [
       "<div>\n",
       "<style scoped>\n",
       "    .dataframe tbody tr th:only-of-type {\n",
       "        vertical-align: middle;\n",
       "    }\n",
       "\n",
       "    .dataframe tbody tr th {\n",
       "        vertical-align: top;\n",
       "    }\n",
       "\n",
       "    .dataframe thead th {\n",
       "        text-align: right;\n",
       "    }\n",
       "</style>\n",
       "<table border=\"1\" class=\"dataframe\">\n",
       "  <thead>\n",
       "    <tr style=\"text-align: right;\">\n",
       "      <th></th>\n",
       "      <th>teamName</th>\n",
       "      <th>bottle_score</th>\n",
       "    </tr>\n",
       "  </thead>\n",
       "  <tbody>\n",
       "    <tr>\n",
       "      <th>1</th>\n",
       "      <td>Tottenham</td>\n",
       "      <td>1.858198</td>\n",
       "    </tr>\n",
       "    <tr>\n",
       "      <th>2</th>\n",
       "      <td>Manchester United</td>\n",
       "      <td>1.830976</td>\n",
       "    </tr>\n",
       "    <tr>\n",
       "      <th>3</th>\n",
       "      <td>Arsenal</td>\n",
       "      <td>1.811913</td>\n",
       "    </tr>\n",
       "  </tbody>\n",
       "</table>\n",
       "</div>"
      ],
      "text/plain": [
       "            teamName  bottle_score\n",
       "1          Tottenham      1.858198\n",
       "2  Manchester United      1.830976\n",
       "3            Arsenal      1.811913"
      ]
     },
     "metadata": {},
     "output_type": "display_data"
    },
    {
     "name": "stdout",
     "output_type": "stream",
     "text": [
      "\n",
      "\n",
      "Serie A\n"
     ]
    },
    {
     "data": {
      "text/html": [
       "<div>\n",
       "<style scoped>\n",
       "    .dataframe tbody tr th:only-of-type {\n",
       "        vertical-align: middle;\n",
       "    }\n",
       "\n",
       "    .dataframe tbody tr th {\n",
       "        vertical-align: top;\n",
       "    }\n",
       "\n",
       "    .dataframe thead th {\n",
       "        text-align: right;\n",
       "    }\n",
       "</style>\n",
       "<table border=\"1\" class=\"dataframe\">\n",
       "  <thead>\n",
       "    <tr style=\"text-align: right;\">\n",
       "      <th></th>\n",
       "      <th>teamName</th>\n",
       "      <th>bottle_score</th>\n",
       "    </tr>\n",
       "  </thead>\n",
       "  <tbody>\n",
       "    <tr>\n",
       "      <th>1</th>\n",
       "      <td>Roma</td>\n",
       "      <td>1.895025</td>\n",
       "    </tr>\n",
       "    <tr>\n",
       "      <th>2</th>\n",
       "      <td>Napoli</td>\n",
       "      <td>1.891704</td>\n",
       "    </tr>\n",
       "    <tr>\n",
       "      <th>3</th>\n",
       "      <td>Lazio</td>\n",
       "      <td>1.770966</td>\n",
       "    </tr>\n",
       "  </tbody>\n",
       "</table>\n",
       "</div>"
      ],
      "text/plain": [
       "  teamName  bottle_score\n",
       "1     Roma      1.895025\n",
       "2   Napoli      1.891704\n",
       "3    Lazio      1.770966"
      ]
     },
     "metadata": {},
     "output_type": "display_data"
    },
    {
     "name": "stdout",
     "output_type": "stream",
     "text": [
      "\n"
     ]
    }
   ],
   "source": [
    "print(\"\\nThe top bottlers in each league were,\\n\")\n",
    "\n",
    "for league_name, df_league in bottle_display.groupby('leagueName'):\n",
    "    print(f\"\\n{league_name}\")\n",
    "    display(\n",
    "        df_league[['teamName', 'bottle_score']]\n",
    "        .sort_values(by='bottle_score', ascending=False)\n",
    "        .reset_index(drop=True)\n",
    "        .head(3)\n",
    "        .set_index(pd.Index(range(1, 4)))\n",
    "    )\n",
    "    print()\n"
   ]
  },
  {
   "cell_type": "code",
   "execution_count": 15,
   "id": "d3bb92ad",
   "metadata": {},
   "outputs": [],
   "source": [
    "league_colors = {\n",
    "    'Premier League': '#432060',\n",
    "    'La Liga': '#ff5049',\n",
    "    'Bundesliga': '#d2000c',\n",
    "    'Serie A': '#005cff',\n",
    "    'Ligue 1': '#122c62'\n",
    "}"
   ]
  },
  {
   "cell_type": "code",
   "execution_count": 16,
   "id": "5cd23dba",
   "metadata": {},
   "outputs": [
    {
     "data": {
      "image/png": "[encoded data removed]",
      "text/plain": [
       "<Figure size 1200x800 with 1 Axes>"
      ]
     },
     "metadata": {},
     "output_type": "display_data"
    }
   ],
   "source": [
    "plt.figure(figsize=(12,8))\n",
    "top10 = bottle_display.nlargest(10, 'bottle_score').sort_values('bottle_score', ascending=True)\n",
    "bars = plt.barh(top10['teamName'],\n",
    "                top10['bottle_score'],\n",
    "                color=[league_colors[league] for league in top10['leagueName']],\n",
    "                alpha=0.8)\n",
    "\n",
    "\n",
    "plt.title('Top 10 Bottlers in European Football', fontsize=16, pad=20)\n",
    "plt.xlabel('Bottle Score', fontsize=12)\n",
    "plt.xlim(0, 2.2)\n",
    "plt.grid(axis='x', alpha=0.3)\n",
    "\n",
    "for bar in bars:\n",
    "    width = bar.get_width()\n",
    "    plt.text(width + 0.05, bar.get_y() + bar.get_height()/2,\n",
    "             f'{width:.2f}',\n",
    "             ha='left', va='center')\n",
    "\n",
    "plt.tight_layout()\n",
    "plt.savefig('output/visualizations/top10_bottlers.png', dpi=120, bbox_inches='tight')\n",
    "plt.show()"
   ]
  },
  {
   "cell_type": "code",
   "execution_count": 17,
   "id": "dd7b3991",
   "metadata": {},
   "outputs": [
    {
     "data": {
      "image/png": "[encoded data removed]",
      "text/plain": [
       "<Figure size 1200x700 with 1 Axes>"
      ]
     },
     "metadata": {},
     "output_type": "display_data"
    }
   ],
   "source": [
    "plt.figure(figsize=(12, 7))\n",
    "\n",
    "for league, group in bottle_display.groupby('leagueName'):\n",
    "    top3 = group.nlargest(3, 'bottle_score')\n",
    "    plt.bar(top3['teamName'],\n",
    "            top3['bottle_score'],\n",
    "            alpha=0.8,\n",
    "            label=league,\n",
    "            color=league_colors[league])\n",
    "\n",
    "plt.title('Top 3 Bottlers by League', fontsize=14, pad=20)\n",
    "plt.ylabel('Bottle Score', fontsize=12)\n",
    "plt.xticks(rotation=45, ha='right', fontsize=10)\n",
    "plt.legend(title='League', bbox_to_anchor=(1, 1), loc='upper left')\n",
    "\n",
    "for bar in plt.gca().patches:\n",
    "    plt.gca().text(bar.get_x() + bar.get_width()/2,\n",
    "                  bar.get_height() + 0.02,\n",
    "                  f'{bar.get_height():.2f}',\n",
    "                  ha='center',\n",
    "                  va='bottom',\n",
    "                  fontsize=9)\n",
    "\n",
    "plt.tight_layout()\n",
    "plt.savefig('output/visualizations/top3_bottlers_by_league.png', dpi=120, bbox_inches='tight')\n",
    "plt.show()"
   ]
  },
  {
   "cell_type": "code",
   "execution_count": null,
   "id": "d1dc84b1",
   "metadata": {},
   "outputs": [],
   "source": []
  }
 ],
 "metadata": {
  "kernelspec": {
   "display_name": "Python 3",
   "language": "python",
   "name": "python3"
  },
  "language_info": {
   "codemirror_mode": {
    "name": "ipython",
    "version": 3
   },
   "file_extension": ".py",
   "mimetype": "text/x-python",
   "name": "python",
   "nbconvert_exporter": "python",
   "pygments_lexer": "ipython3",
   "version": "3.13.5"
  }
 },
 "nbformat": 4,
 "nbformat_minor": 5
}
